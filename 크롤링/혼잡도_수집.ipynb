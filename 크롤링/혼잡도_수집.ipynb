{
 "cells": [
  {
   "cell_type": "code",
   "execution_count": null,
   "id": "52b236ba-7f44-4e2c-a5f2-6758defd1c86",
   "metadata": {},
   "outputs": [],
   "source": [
    "import requests\n",
    "import pandas as pd\n",
    "from bs4 import BeautifulSoup\n",
    "import json\n",
    "import xmltodict\n",
    "import pandas as pd\n",
    "import time\n",
    "import os"
   ]
  },
  {
   "cell_type": "code",
   "execution_count": null,
   "id": "8e44e427-c30d-48fc-9ba3-34ec82f98445",
   "metadata": {},
   "outputs": [],
   "source": [
    "place_50_gangnam = [\"강남 MICE 관광특구\",\"압구정로데오거리\",\"가로수길\",\"역삼역\",\"강남역\",\"선릉역\"]\n",
    "place_50_guro = [\"신도림역\",\"구로디지털단지역\"]\n",
    "place_50_jongro = [\"창덕궁·종묘\",\"광화문·덕수궁\",\"경복궁·서촌마을\",\"낙산공원·이화마을\",\"북촌한옥마을\",\"종로·청계 관광특구\",\"인사동·익선동\"]\n",
    "place_50_mapo = [\"망원한강공원\",\"월드컵공원\",\"신촌·이대역\",\"홍대 관광특구\"]\n",
    "place_50_yongsan = [\"용산역\",\"국립중앙박물관·용산가족공원\",\"남산공원\",\"이태원 관광특구\",\"서울역\",\"이촌한강공원\"]"
   ]
  },
  {
   "cell_type": "code",
   "execution_count": null,
   "id": "460aa0e3-f35e-40ac-bdd0-20131ddfb6ab",
   "metadata": {},
   "outputs": [],
   "source": [
    "# [6, 2, 7, 4, 6]\n",
    "[len(place_50_gangnam), len(place_50_guro),len(place_50_jongro),len(place_50_mapo),len(place_50_yongsan)]"
   ]
  },
  {
   "cell_type": "code",
   "execution_count": null,
   "id": "fc94e0d2-216c-470d-8bdc-1fc9a9a42992",
   "metadata": {},
   "outputs": [],
   "source": [
    "KEY = \"\"\n",
    "TYPE = \"XML\"\n",
    "PLACES = ['강남 MICE 관광특구', '동대문 관광특구', '명동 관광특구', '이태원 관광특구', '잠실 관광특구',\n",
    "       '종로·청계 관광특구', '홍대 관광특구', '경복궁·서촌마을', '광화문·덕수궁', '창덕궁·종묘',\n",
    "       '가산디지털단지역', '강남역', '건대입구역', '고속터미널역', '교대역', '구로디지털단지역', '서울역',\n",
    "       '선릉역', '신도림역', '신림역', '신촌·이대역', '역삼역', '연신내역', '용산역', '왕십리역',\n",
    "       'DMC(디지털미디어시티)', '창동 신경제 중심지', '노량진', '낙산공원·이화마을', '북촌한옥마을',\n",
    "       '가로수길', '성수카페거리', '수유리 먹자골목', '쌍문동 맛집거리', '압구정로데오거리', '여의도',\n",
    "       '영등포 타임스퀘어', '인사동·익선동', '국립중앙박물관·용산가족공원', '남산공원', '뚝섬한강공원',\n",
    "       '망원한강공원', '반포한강공원', '북서울꿈의숲', '서울대공원', '서울숲공원', '월드컵공원', '이촌한강공원',\n",
    "       '잠실종합운동장', '잠실한강공원']\n",
    "index_list = ['WEATHER_TIME', 'TEMP', 'SENSIBLE_TEMP', 'MAX_TEMP', 'MIN_TEMP', 'HUMIDITY', 'WIND_DIRCT', 'WIND_SPD', \n",
    "              'PRECIPITATION', 'PRECPT_TYPE', 'PCP_MSG', 'SUNRISE', 'SUNSET', 'UV_INDEX_LVL', 'UV_INDEX', \n",
    "              'UV_MSG', 'PM25_INDEX', 'PM25', 'PM10_INDEX', 'PM10', 'AIR_IDX', 'AIR_IDX_MVL', 'AIR_IDX_MAIN', 'AIR_MSG']\n",
    "CSV_FILE_NAME = \"seoul_50.csv\""
   ]
  },
  {
   "cell_type": "code",
   "execution_count": null,
   "id": "e1b9de8d-1c6c-43dd-85f2-6437e1f5c686",
   "metadata": {},
   "outputs": [],
   "source": [
    "def getSoup(url):\n",
    "    import requests\n",
    "    from bs4 import BeautifulSoup\n",
    "    \n",
    "    soup = \"\"\n",
    "    try:\n",
    "        response = requests.get(url)\n",
    "        time.sleep(1)\n",
    "        if response.status_code != 200:\n",
    "            raise Exception(\"HTTP 코드 이상\")\n",
    "        soup = BeautifulSoup(response.content, \"lxml-xml\")\n",
    "    except:\n",
    "        print(\"Error\")\n",
    "        soup = getSoup(url)\n",
    "    return soup"
   ]
  },
  {
   "cell_type": "code",
   "execution_count": null,
   "id": "c943d6be-8f9b-47a8-9206-bcbabd6c4f9a",
   "metadata": {},
   "outputs": [],
   "source": [
    "def getData(place, KEY, TYPE):\n",
    "    url = f\"http://openapi.seoul.go.kr:8088/{KEY}/{TYPE}/citydata/1/5/{place}\"\n",
    "    soup = getSoup(url)\n",
    "\n",
    "    # 1.장소이름 추가\n",
    "    data = {}            \n",
    "    tmp = soup.find(\"AREA_NM\")\n",
    "    while isinstance(tmp, type(None)):\n",
    "        soup = getSoup(url)\n",
    "        tmp = soup.find(\"AREA_NM\")      \n",
    "        print(f'에러1 발생: {time.strftime(\"%Y-%m-%d %H:%M:%S\", time.localtime())}')\n",
    "    data[\"AREA_NM\"] = soup.find(\"AREA_NM\").get_text()\n",
    "\n",
    "    # 2\n",
    "    tmp = soup.find(\"CITYDATA\").find(\"LIVE_PPLTN_STTS\").find(\"LIVE_PPLTN_STTS\")\n",
    "    while isinstance(tmp, type(None)):\n",
    "        soup = getSoup(url)\n",
    "        tmp = soup.find(\"CITYDATA\").find(\"LIVE_PPLTN_STTS\").find(\"LIVE_PPLTN_STTS\")\n",
    "        print(f'에러2 발생: {time.strftime(\"%Y-%m-%d %H:%M:%S\", time.localtime())}')\n",
    "    tmp = xmltodict.parse(str(tmp))[\"LIVE_PPLTN_STTS\"]\n",
    "    data = dict(data, **tmp)\n",
    "\n",
    "    # 3\n",
    "    result = {}\n",
    "    tmp = soup.find(\"WEATHER_STTS\").find(\"WEATHER_STTS\")\n",
    "    while isinstance(tmp, type(None)):\n",
    "        soup = getSoup(url)\n",
    "        tmp = soup.find(\"WEATHER_STTS\").find(\"WEATHER_STTS\")\n",
    "        print(f'에러3 발생: {time.strftime(\"%Y-%m-%d %H:%M:%S\", time.localtime())}')\n",
    "    tmp = xmltodict.parse(str(tmp))[\"WEATHER_STTS\"]\n",
    "    for index in index_list: # 원하는 칼럼만 뽑아내기\n",
    "        a = tmp[index]\n",
    "        result[index] = a\n",
    "    data = dict(data, **result)   \n",
    "\n",
    "    # 4 현재 시간 추가\n",
    "    data[\"NOW\"] = time.strftime(\"%Y-%m-%d %H:%M\", now)\n",
    "    return data"
   ]
  },
  {
   "cell_type": "code",
   "execution_count": null,
   "id": "f8ece486-3d3a-45fd-9d73-7bf04572453e",
   "metadata": {},
   "outputs": [],
   "source": [
    "def save(data, CSV_FILE_NAME):\n",
    "    import pandas as pd\n",
    "    import os\n",
    "    # 데이터프레임 변환 후 csv파일에 저장\n",
    "    df = pd.DataFrame(data = [list(data.values())], columns = list(data.keys()))    \n",
    "    if not os.path.exists(CSV_FILE_NAME):\n",
    "        df.to_csv(CSV_FILE_NAME, index=False)\n",
    "    else:\n",
    "        df.to_csv(CSV_FILE_NAME, index=False, mode = 'a', header=False)      "
   ]
  },
  {
   "cell_type": "markdown",
   "id": "eed9b3ed-f518-4499-9110-cadcaff2f1f4",
   "metadata": {},
   "source": [
    "# 실행"
   ]
  },
  {
   "cell_type": "code",
   "execution_count": null,
   "id": "ad087dc5-fbe0-4f8a-8ef5-e3c5bf4d6934",
   "metadata": {},
   "outputs": [],
   "source": [
    "# 실행\n",
    "while True:\n",
    "    now = time.localtime()    \n",
    "    if now.tm_min in [2,12,22,32,42,52]:  \n",
    "        for place in PLACES:\n",
    "            data = getData(place, KEY, TYPE)\n",
    "            save(data, CSV_FILE_NAME)               \n",
    "    else:\n",
    "        time.sleep(10)"
   ]
  }
 ],
 "metadata": {
  "kernelspec": {
   "display_name": "Python 3 (ipykernel)",
   "language": "python",
   "name": "python3"
  },
  "language_info": {
   "codemirror_mode": {
    "name": "ipython",
    "version": 3
   },
   "file_extension": ".py",
   "mimetype": "text/x-python",
   "name": "python",
   "nbconvert_exporter": "python",
   "pygments_lexer": "ipython3",
   "version": "3.8.8"
  }
 },
 "nbformat": 4,
 "nbformat_minor": 5
}
