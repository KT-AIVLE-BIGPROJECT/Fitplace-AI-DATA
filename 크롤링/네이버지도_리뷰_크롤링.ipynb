{
 "cells": [
  {
   "cell_type": "code",
   "execution_count": 1,
   "metadata": {},
   "outputs": [],
   "source": [
    "import requests\n",
    "import json\n",
    "import pandas as pd\n",
    "from bs4 import BeautifulSoup\n",
    "from selenium import webdriver\n",
    "from selenium.webdriver.common.by import By\n",
    "from selenium.webdriver.common.keys import Keys\n",
    "import time\n",
    "import os"
   ]
  },
  {
   "cell_type": "code",
   "execution_count": 2,
   "metadata": {},
   "outputs": [],
   "source": [
    "def review_crawling(url):\n",
    "    url1 = url + \"visitor\" #리뷰게시판\n",
    "    url2 = url + \"ugc\" #블로그리뷰\n",
    "    \n",
    "    #1. 리뷰 페이지 이동\n",
    "    driver.get(url1)\n",
    "    \n",
    "    #2. review 긴 내용 모두 클릭\n",
    "    reviews = driver.find_elements(By.CSS_SELECTOR, 'div.ZZ4OK > a')\n",
    "    for i in range(len(reviews)):\n",
    "        driver.execute_script(\"arguments[0].click();\", reviews[i])\n",
    "    \n",
    "    #3.페이지 bs4로 받아오기\n",
    "    req = driver.page_source\n",
    "    body = BeautifulSoup(req, 'html.parser').body\n",
    "    \n",
    "    #4-1. 이름 가져오기\n",
    "    name = body.select('#_title>span.Fc1rA')[0].text\n",
    "    \n",
    "    #4-2.메인 포토 가져오기 (포토가 없을 경우 거리뷰 url 가져오기 )\n",
    "    try:\n",
    "        main_photo = body.select_one('#_autoPlayable > div')['style'].split('\"')[1] #메인 사진\n",
    "    except:\n",
    "        main_photo = body.select_one('div.CB8aP > div > a > div')['style'].split('\"')[1] #로드뷰\n",
    "    \n",
    "    #4-3.  이런 점이 좋았어요 가져와서 상위 3개만 사용(없을 경우에는 빈칸으로 입력)\n",
    "    #이런 정ㅁ이 좋았어요 선택한 사람 수 가져오기\n",
    "    review_summaries = body.select('span.nWiXa')\n",
    "    review_sum_count = body.select('span.TwM9q')\n",
    "    if not review_summaries:#없을 경우\n",
    "        review_summaries = ['']*3\n",
    "        review_sum_count = ['']*3\n",
    "    else:#있을 경우\n",
    "        for i,review_summary in enumerate(review_summaries):\n",
    "            review_summaries[i]=review_summary.text\n",
    "            review_sum_count[i]=review_sum_count[i].text.replace('이 키워드를 선택한 인원','')\n",
    "    \n",
    "    #4-4. review들,review개수 가져오기\n",
    "    reviews = body.select('div.ZZ4OK > a > .zPfVt')\n",
    "    review_count = body.select_one('span.place_section_count')\n",
    "    if review_count:#리뷰가 있는 경우\n",
    "        review_count = review_count.text\n",
    "    else:#리뷰가 없는 경우\n",
    "        review_count = ''\n",
    "        \n",
    "    #4-5.blog리뷰 이동 -> 페이지 bs4로 받아오기 -> 블로그 리뷰 count 받아오기\n",
    "    driver.get(url2)\n",
    "    driver.implicitly_wait(5)\n",
    "    body = BeautifulSoup(driver.page_source, 'html.parser').body\n",
    "    review_blog_count = body.select_one('em.place_section_count')\n",
    "    if review_blog_count:#블로그 리뷰가 있는 경우\n",
    "        review_blog_count = review_blog_count.text\n",
    "    else:#블로그 리뷰가 없는 경우\n",
    "        review_blog_count = ''\n",
    "    review_blog_title = body.select('.place_bluelink.XhMTc')\n",
    "    review_blog_content = body.select('.j0LvW')\n",
    "    review_blog_url = body.select('.X_mSv')\n",
    "    \n",
    "    data = {\n",
    "        'url':url,\n",
    "        'name':name,\n",
    "        'place_num':place_num,\n",
    "        'main_jpg':main_photo,\n",
    "        'review_summary1':review_summaries[0] + ','+review_sum_count[0],\n",
    "        'review_summary2':review_summaries[1]+ ','+review_sum_count[1],\n",
    "        'review_summary3':review_summaries[2]+ ','+review_sum_count[2],\n",
    "        'review_blog_count':review_blog_count,\n",
    "        'review_count':review_count,\n",
    "    }\n",
    "    \n",
    "    #review\n",
    "    for i in range(10):\n",
    "        try:\n",
    "            data['review'+str(i+1)] = reviews[i].text\n",
    "        except:#10보다 작은 경우\n",
    "            data['review'+str(i+1)]=''\n",
    "\n",
    "    print(len(review_blog_url))           \n",
    "    for i in range(10):\n",
    "        try:\n",
    "            data['review_blog'+str(i+1)] = review_blog_title[i].text +','+review_blog_content[i].text +','+review_blog_url[i].attrs['href']\n",
    "        except:#10보다 작은 경우\n",
    "            data['review_blog'+str(i+1)] = ','+ ','\n",
    "    \n",
    "    df = pd.DataFrame(data,index=[0])\n",
    "    if not os.path.exists('review.csv'):\n",
    "        df.to_csv('review.csv', index=False, mode='w', encoding='utf-8-sig')\n",
    "    else:\n",
    "        df.to_csv('review.csv', index=False, mode='a', encoding='utf-8-sig', header=False)\n",
    "    print(name)"
   ]
  },
  {
   "cell_type": "code",
   "execution_count": null,
   "metadata": {
    "scrolled": true,
    "tags": []
   },
   "outputs": [
    {
     "name": "stdout",
     "output_type": "stream",
     "text": [
      "0 https://map.naver.com/v5/search/%EC%9A%A9%EC%82%B0%EA%B5%AC%20%EA%B1%B0%EB%A6%AC/place/36200471?c=13185188.0434686,4509248.2664129,5,0,0,0,dh&placePath=%3Fentry%253Dbmp 10\n",
      "토토가요\n",
      "1 https://map.naver.com/v5/search/%EC%9A%A9%EC%82%B0%EA%B5%AC%20%EA%B1%B0%EB%A6%AC/place/21714796?c=13175810.1110781,4514948.7228362,5,0,0,0,dh&placePath=%3Fentry%253Dbmp 3\n",
      "용강동상점가\n",
      "2 https://map.naver.com/v5/search/%EC%9A%A9%EC%82%B0%EA%B5%AC%20%EA%B1%B0%EB%A6%AC/place/1974980352?c=13185425.7217129,4508773.2584802,5,0,0,0,dh&placePath=%3Fentry%253Dbmp "
     ]
    }
   ],
   "source": [
    "driver = webdriver.Chrome()\n",
    "driver.implicitly_wait(5)\n",
    "\n",
    "# reveiw 페이지 가져오기\n",
    "detail_url = pd.read_csv('yongsangu.csv')['detail_url']\n",
    "for i,url in enumerate(detail_url[-40:]):\n",
    "    print(i,end=' ')\n",
    "    print(url,end=' ')\n",
    "    place_num = url.split('/')[7].split('?')[0] # review 페이지 num 가져오기\n",
    "    url = \"https://pcmap.place.naver.com/restaurant/\"+place_num+\"/review/\"\n",
    "    review_crawling(url)\n",
    "\n",
    "driver.quit()"
   ]
  },
  {
   "cell_type": "code",
   "execution_count": null,
   "metadata": {},
   "outputs": [],
   "source": []
  }
 ],
 "metadata": {
  "colab": {
   "provenance": []
  },
  "gpuClass": "standard",
  "kernelspec": {
   "display_name": "Python 3",
   "language": "python",
   "name": "python3"
  },
  "language_info": {
   "codemirror_mode": {
    "name": "ipython",
    "version": 3
   },
   "file_extension": ".py",
   "mimetype": "text/x-python",
   "name": "python",
   "nbconvert_exporter": "python",
   "pygments_lexer": "ipython3",
   "version": "3.8.8"
  }
 },
 "nbformat": 4,
 "nbformat_minor": 4
}
